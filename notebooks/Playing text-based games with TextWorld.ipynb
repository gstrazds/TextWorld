{
 "cells": [
  {
   "cell_type": "markdown",
   "metadata": {},
   "source": [
    "[![Open In Colab](https://colab.research.google.com/assets/colab-badge.svg)](https://colab.research.google.com/github/microsoft/TextWorld/blob/main/notebooks/Playing%20text-based%20games%20with%20TextWorld.ipynb)"
   ]
  },
  {
   "cell_type": "markdown",
   "metadata": {},
   "source": [
    "# Playing text-based games with TextWorld\n",
    "This tutorial shows how to play a text-based adventure game using TextWorld's API."
   ]
  },
  {
   "cell_type": "markdown",
   "metadata": {},
   "source": [
    "## Prerequisite\n",
    "Install TextWorld as described in the [README.md](https://github.com/microsoft/TextWorld#readme). Most of the time, a simple `pip install` should work."
   ]
  },
  {
   "cell_type": "code",
   "execution_count": null,
   "metadata": {
    "scrolled": true
   },
   "outputs": [],
   "source": [
    "!pip install textworld"
   ]
  },
  {
   "cell_type": "markdown",
   "metadata": {},
   "source": [
    "## Playing Zork1\n",
    "### Getting the game file\n",
    "First, we need a copy of `zork1.z5`."
   ]
  },
  {
   "cell_type": "code",
   "execution_count": 1,
   "metadata": {},
   "outputs": [
    {
     "name": "stdout",
     "output_type": "stream",
     "text": [
      "Downloading zork1.z5 ...\n",
      "Done.\n"
     ]
    }
   ],
   "source": [
    "!echo \"Downloading zork1.z5 ...\"\n",
    "!wget -q -N https://archive.org/download/Zork1Release88Z-machineFile/zork1.z5\n",
    "!echo \"Done.\""
   ]
  },
  {
   "cell_type": "markdown",
   "metadata": {},
   "source": [
    "**[Optional]** On Google Colab, you need to download additional data beforehand."
   ]
  },
  {
   "cell_type": "code",
   "execution_count": null,
   "metadata": {},
   "outputs": [],
   "source": [
    "!wget https://aka.ms/textworld/notebooks/data.zip\n",
    "!unzip -nq data.zip && rm -f data.zip"
   ]
  },
  {
   "cell_type": "markdown",
   "metadata": {},
   "source": [
    "### Loading the library"
   ]
  },
  {
   "cell_type": "code",
   "execution_count": 2,
   "metadata": {},
   "outputs": [],
   "source": [
    "import textworld"
   ]
  },
  {
   "cell_type": "markdown",
   "metadata": {},
   "source": [
    "TextWorld's documentation can be found at\n",
    "https://textworld.readthedocs.io/en/stable/."
   ]
  },
  {
   "cell_type": "markdown",
   "metadata": {},
   "source": [
    "### Starting a game\n",
    "Before launching a game, we can tell TextWorld what information we want as part of the game state."
   ]
  },
  {
   "cell_type": "code",
   "execution_count": 3,
   "metadata": {},
   "outputs": [],
   "source": [
    "# Let the environment know what information we want as part of the game state.\n",
    "infos = textworld.EnvInfos(\n",
    "    feedback=True,    # Response from the game after typing a text command.\n",
    "    description=True, # Text describing the room the player is currently in.\n",
    "    inventory=True    # Text describing the player's inventory.\n",
    ")"
   ]
  },
  {
   "cell_type": "markdown",
   "metadata": {},
   "source": [
    "*The full list of available information that can be requested can be found here: \n",
    "https://textworld.readthedocs.io/en/stable/textworld.html#textworld.core.EnvInfos.*\n",
    "\n"
   ]
  },
  {
   "cell_type": "code",
   "execution_count": 4,
   "metadata": {},
   "outputs": [],
   "source": [
    "# We are now ready to start the game.\n",
    "env = textworld.start('./zork1.z5', request_infos=infos)"
   ]
  },
  {
   "cell_type": "markdown",
   "metadata": {},
   "source": [
    "Here `env` is a subclass of `textworld.core.Environment`. It provides the API allowing us to interact with the text-based game parser/interpreter that is running `zork1.z5`. Here are the most important methods we can access:\n",
    "\n",
    "```python\n",
    "# Restart the game and get the initial observation/state from the game.\n",
    "game_state = env.reset()\n",
    "\n",
    "# Some games contain stochasticity, the following allows us to make a playthrough reproducible.\n",
    "env.seed(seed=None)\n",
    "\n",
    "# Perform a step in the game, i.e. send a text command and get the new state, a reward for reaching that new state and whether the game is finished (either won or lost).\n",
    "game_state, reward, done = env.step(command)\n",
    "\n",
    "# Display the current observation, i.e. send the interpreter's response to stdout.\n",
    "env.render()\n",
    "```"
   ]
  },
  {
   "cell_type": "markdown",
   "metadata": {},
   "source": [
    "### Getting the initial state"
   ]
  },
  {
   "cell_type": "code",
   "execution_count": 5,
   "metadata": {},
   "outputs": [],
   "source": [
    "game_state = env.reset()"
   ]
  },
  {
   "cell_type": "markdown",
   "metadata": {},
   "source": [
    "The variable `game_state` is a subclass of `textworld.core.GameState`. It provides the API allowing us to retrieve diverse information about the current state of the game. Here are the most useful properties."
   ]
  },
  {
   "cell_type": "code",
   "execution_count": 6,
   "metadata": {},
   "outputs": [
    {
     "name": "stdout",
     "output_type": "stream",
     "text": [
      "Copyright (c) 1981, 1982, 1983 Infocom, Inc. All rights reserved.\n",
      "ZORK is a registered trademark of Infocom, Inc.\n",
      "Revision 88 / Serial number 840726\n",
      "\n",
      "West of House\n",
      "You are standing in an open field west of a white house, with a boarded front door.\n",
      "There is a small mailbox here.\n",
      "\n",
      "\n"
     ]
    }
   ],
   "source": [
    "# Response from the parser after entering a text command or resetting a game.\n",
    "print(game_state.feedback)"
   ]
  },
  {
   "cell_type": "code",
   "execution_count": 7,
   "metadata": {},
   "outputs": [
    {
     "name": "stdout",
     "output_type": "stream",
     "text": [
      "West of House\n",
      "You are standing in an open field west of a white house, with a boarded front door.\n",
      "There is a small mailbox here.\n",
      "\n",
      "\n"
     ]
    }
   ],
   "source": [
    "# Text describing the room the player is currently in.\n",
    "# It corresponds the parser's feedback of the \"look\" command.\n",
    "print(game_state.description)"
   ]
  },
  {
   "cell_type": "code",
   "execution_count": 8,
   "metadata": {},
   "outputs": [
    {
     "name": "stdout",
     "output_type": "stream",
     "text": [
      "You are empty-handed.\n",
      "\n",
      "\n"
     ]
    }
   ],
   "source": [
    "# Text describing the player's inventory.\n",
    "print(game_state.inventory)"
   ]
  },
  {
   "cell_type": "code",
   "execution_count": 9,
   "metadata": {},
   "outputs": [
    {
     "name": "stdout",
     "output_type": "stream",
     "text": [
      "0\n"
     ]
    }
   ],
   "source": [
    "# Score received up until now.\n",
    "print(game_state.score)"
   ]
  },
  {
   "cell_type": "markdown",
   "metadata": {},
   "source": [
    "### Sending text commands to the game"
   ]
  },
  {
   "cell_type": "code",
   "execution_count": 10,
   "metadata": {},
   "outputs": [
    {
     "name": "stdout",
     "output_type": "stream",
     "text": [
      "Opening the small mailbox reveals a leaflet.\n",
      "\n",
      "\n"
     ]
    }
   ],
   "source": [
    "game_state, score, done = env.step(\"open mailbox\")\n",
    "print(game_state.feedback)  # Result of the command."
   ]
  },
  {
   "cell_type": "markdown",
   "metadata": {},
   "source": [
    "Alternatively to `print(game_state.feedback)`, it is more convenient to do:"
   ]
  },
  {
   "cell_type": "code",
   "execution_count": 11,
   "metadata": {},
   "outputs": [
    {
     "name": "stdout",
     "output_type": "stream",
     "text": [
      "Opening the small mailbox reveals a leaflet.\n",
      "\n"
     ]
    }
   ],
   "source": [
    "env.render()"
   ]
  },
  {
   "cell_type": "markdown",
   "metadata": {},
   "source": [
    "### Making a simple play loop\n",
    "Here is a minimal code example to interactively play the game we loaded above.\n",
    "\n",
    "*Hint: open mailbox, take leaflet, read it*"
   ]
  },
  {
   "cell_type": "code",
   "execution_count": 12,
   "metadata": {},
   "outputs": [
    {
     "name": "stdout",
     "output_type": "stream",
     "text": [
      "Copyright (c) 1981, 1982, 1983 Infocom, Inc. All rights reserved.\n",
      "ZORK is a registered trademark of Infocom, Inc.\n",
      "Revision 88 / Serial number 840726\n",
      "\n",
      "West of House\n",
      "You are standing in an open field west of a white house, with a boarded front\n",
      "door.\n",
      "There is a small mailbox here.\n",
      "\n",
      "> open mailbox\n",
      "Opening the small mailbox reveals a leaflet.\n",
      "\n",
      "> take leaflet\n",
      "Taken.\n",
      "\n",
      "> read it\n",
      "\"WELCOME TO ZORK!\n",
      "\n",
      "ZORK is a game of adventure, danger, and low cunning. In it you will explore\n",
      "some of the most amazing territory ever seen by mortals. No computer should be\n",
      "without one!\"\n",
      "\n",
      "Played 3 steps, scoring 0 points.\n"
     ]
    }
   ],
   "source": [
    "try:\n",
    "    done = False\n",
    "    env.reset()\n",
    "    while not done:\n",
    "        env.render()\n",
    "        command = input(\"> \")\n",
    "        game_state, reward, done = env.step(command)\n",
    "\n",
    "    env.render()  # Final message.\n",
    "except KeyboardInterrupt:\n",
    "    pass  # Quit the game.\n",
    "\n",
    "print(\"Played {} steps, scoring {} points.\".format(game_state.moves, game_state.score))\n"
   ]
  },
  {
   "cell_type": "markdown",
   "metadata": {},
   "source": [
    "## Play a generated game\n",
    "TextWorld can also **generate** games. Play one of the generated games below using the builtin play loop function. Alternatively, from a terminal you can use the `tw-play` script.\n",
    "\n",
    "*Note: for convenience `textworld.play` provides the list of available actions at each time step.*"
   ]
  },
  {
   "cell_type": "code",
   "execution_count": 13,
   "metadata": {
    "scrolled": false
   },
   "outputs": [
    {
     "name": "stdout",
     "output_type": "stream",
     "text": [
      "\n",
      "\n",
      "\n",
      "\n",
      "                    ________  ________  __    __  ________\n",
      "                   |        \\|        \\|  \\  |  \\|        \\\n",
      "                    \\$$$$$$$$| $$$$$$$$| $$  | $$ \\$$$$$$$$\n",
      "                      | $$   | $$__     \\$$\\/  $$   | $$\n",
      "                      | $$   | $$  \\     >$$  $$    | $$\n",
      "                      | $$   | $$$$$    /  $$$$\\    | $$\n",
      "                      | $$   | $$_____ |  $$ \\$$\\   | $$\n",
      "                      | $$   | $$     \\| $$  | $$   | $$\n",
      "                       \\$$    \\$$$$$$$$ \\$$   \\$$    \\$$\n",
      "              __       __   ______   _______   __        _______\n",
      "             |  \\  _  |  \\ /      \\ |       \\ |  \\      |       \\\n",
      "             | $$ / \\ | $$|  $$$$$$\\| $$$$$$$\\| $$      | $$$$$$$\\\n",
      "             | $$/  $\\| $$| $$  | $$| $$__| $$| $$      | $$  | $$\n",
      "             | $$  $$$\\ $$| $$  | $$| $$    $$| $$      | $$  | $$\n",
      "             | $$ $$\\$$\\$$| $$  | $$| $$$$$$$\\| $$      | $$  | $$\n",
      "             | $$$$  \\$$$$| $$__/ $$| $$  | $$| $$_____ | $$__/ $$\n",
      "             | $$$    \\$$$ \\$$    $$| $$  | $$| $$     \\| $$    $$\n",
      "              \\$$      \\$$  \\$$$$$$  \\$$   \\$$ \\$$$$$$$$ \\$$$$$$$\n",
      "\n",
      "\n",
      "\n",
      "-= Bedroom =-\n",
      "You are in a bedroom. A standard kind of place.\n",
      "\n",
      "You can make out a chest drawer. There's something strange about this being\n",
      "here, but you can't put your finger on it. You see a closed antique trunk close\n",
      "by. Look over there! a king-size bed. The king-size bed appears to be empty.\n",
      "\n",
      "There is a closed wooden door leading east.\n",
      "\n",
      ">\n",
      "-= Bedroom =-0/1\n",
      "\n",
      "Available actions: ['examine antique trunk', 'examine chest drawer', 'examine king-size bed', 'examine wooden door', 'inventory', 'look', 'open antique trunk', 'open chest drawer']\n",
      "\n",
      "> open trunk\n",
      "\n",
      "You open the antique trunk.\n",
      "\n",
      "\n",
      ">\n",
      "-= Bedroom =-0/2\n",
      "\n",
      "Available actions: ['close antique trunk', 'examine antique trunk', 'examine chest drawer', 'examine king-size bed', 'examine wooden door', 'inventory', 'look', 'open chest drawer']\n",
      "\n",
      "> open drawer\n",
      "\n",
      "You open the chest drawer, revealing an old key.\n",
      "\n",
      "\n",
      ">\n",
      "-= Bedroom =-0/3\n",
      "\n",
      "Available actions: ['close antique trunk', 'close chest drawer', 'examine antique trunk', 'examine chest drawer', 'examine king-size bed', 'examine old key', 'examine wooden door', 'inventory', 'look', 'take old key from chest drawer']\n",
      "\n",
      "> take key\n",
      "\n",
      "You take the old key from the chest drawer.\n",
      "\n",
      "\n",
      "\n",
      ">\n",
      "-= Bedroom =-0/4\n",
      "\n",
      "Available actions: ['close antique trunk', 'close chest drawer', 'drop old key', 'examine antique trunk', 'examine chest drawer', 'examine king-size bed', 'examine old key', 'examine wooden door', 'insert old key into antique trunk', 'insert old key into chest drawer', 'inventory', 'look', 'put old key on king-size bed', 'unlock wooden door with old key']\n",
      "\n",
      "> unlock door\n",
      "\n",
      "(with the old key)\n",
      "You unlock wooden door.\n",
      "\n",
      "\n",
      ">\n",
      "-= Bedroom =-0/5\n",
      "\n",
      "Available actions: ['close antique trunk', 'close chest drawer', 'drop old key', 'examine antique trunk', 'examine chest drawer', 'examine king-size bed', 'examine old key', 'examine wooden door', 'insert old key into antique trunk', 'insert old key into chest drawer', 'inventory', 'lock wooden door with old key', 'look', 'open wooden door', 'put old key on king-size bed']\n",
      "\n",
      "> open it\n",
      "\n",
      "You open wooden door.\n",
      "\n",
      "\n",
      ">\n",
      "-= Bedroom =-0/6\n",
      "\n",
      "Available actions: ['close antique trunk', 'close chest drawer', 'close wooden door', 'drop old key', 'examine antique trunk', 'examine chest drawer', 'examine king-size bed', 'examine old key', 'examine wooden door', 'go east', 'insert old key into antique trunk', 'insert old key into chest drawer', 'inventory', 'look', 'put old key on king-size bed']\n",
      "\n",
      "> go east\n",
      "\n",
      "\n",
      "-= Kitchen =-\n",
      "You arrive in a kitchen. A standard one.\n",
      "\n",
      "You see a refrigerator. You check the price tag that's still affixed to the\n",
      "refrigerator. 100 bucks? What a deal! You'll have to ask where they got this!\n",
      "You see a counter. The counter is typical. But the thing hasn't got anything on\n",
      "it. Look out! It's a- oh, never mind, it's just a stove. But there isn't a thing\n",
      "on it. Look over there! a kitchen island. You wonder idly who left that here.\n",
      "The kitchen island is usual. On the kitchen island you see a note.\n",
      "\n",
      "There is a closed screen door leading east. There is an open wooden door leading\n",
      "west. You need an unblocked exit? You should try going north. You don't like\n",
      "doors? Why not try going south, that entranceway is unblocked.\n",
      "\n",
      "\n",
      "\n",
      ">\n",
      "-= Kitchen =-0/7\n",
      "\n",
      "Available actions: ['close wooden door', 'drop old key', 'examine counter', 'examine kitchen island', 'examine note', 'examine old key', 'examine refrigerator', 'examine screen door', 'examine stove', 'examine wooden door', 'go north', 'go south', 'go west', 'inventory', 'look', 'open refrigerator', 'open screen door', 'put old key on counter', 'put old key on kitchen island', 'put old key on stove', 'take note from kitchen island']\n",
      "\n",
      "> examine note\n",
      "\n",
      "The dinner is almost ready! It's only missing a grilled carrot.\n",
      "\n",
      "\n",
      "\n",
      ">\n",
      "-= Kitchen =-0/8\n",
      "\n",
      "Available actions: ['close wooden door', 'drop old key', 'examine counter', 'examine kitchen island', 'examine note', 'examine old key', 'examine refrigerator', 'examine screen door', 'examine stove', 'examine wooden door', 'go north', 'go south', 'go west', 'inventory', 'look', 'open refrigerator', 'open screen door', 'put old key on counter', 'put old key on kitchen island', 'put old key on stove', 'take note from kitchen island']\n",
      "\n",
      "> open screen door\n",
      "\n",
      "You open screen door.\n",
      "\n",
      "\n",
      ">\n",
      "-= Kitchen =-0/9\n",
      "\n",
      "Available actions: ['close screen door', 'close wooden door', 'drop old key', 'examine counter', 'examine kitchen island', 'examine note', 'examine old key', 'examine refrigerator', 'examine screen door', 'examine stove', 'examine wooden door', 'go east', 'go north', 'go south', 'go west', 'inventory', 'look', 'open refrigerator', 'put old key on counter', 'put old key on kitchen island', 'put old key on stove', 'take note from kitchen island']\n",
      "\n",
      "> go east\n",
      "\n",
      "\n",
      "-= Backyard =-\n",
      "You've entered a backyard. You can barely contain your excitement.\n",
      "\n",
      "You scan the room for a set of chairs, and you find a set of chairs! The set of\n",
      "chairs is typical. But the thing is empty. What, you think everything in\n",
      "TextWorld should have stuff on it? What's that over there? It looks like it's a\n",
      "bbq. I guess it's true what they say, if you're looking for a bbq, go to\n",
      "TextWorld. However, the bbq, like an empty bbq, has nothing on it. You can see a\n",
      "patio table. The patio table is normal. But oh no! there's nothing on this piece\n",
      "of junk.\n",
      "\n",
      "There is an open screen door leading west. You need an unguarded exit? You\n",
      "should try going south.\n",
      "\n",
      "\n",
      "\n",
      ">\n",
      "-= Backyard =-0/10\n",
      "\n",
      "Available actions: ['close screen door', 'drop old key', 'examine bbq', 'examine old key', 'examine patio table', 'examine screen door', 'examine set of chairs', 'go south', 'go west', 'inventory', 'look', 'put old key on bbq', 'put old key on patio table', 'put old key on set of chairs']\n",
      "\n",
      "> go south\n",
      "\n",
      "\n",
      "-= Garden =-\n",
      "I am so happy to announce that you are now in the garden. You begin to take\n",
      "stock of what's here.\n",
      "\n",
      "\n",
      "\n",
      "You don't like doors? Why not try going north, that entranceway is unblocked.\n",
      "\n",
      "There is a half of a bag of chips, a carrot, an apple and a shovel on the floor.\n",
      "\n",
      "\n",
      ">\n",
      "-= Garden =-0/11\n",
      "\n",
      "Available actions: ['drop old key', 'examine apple', 'examine carrot', 'examine half of a bag of chips', 'examine old key', 'examine shovel', 'go north', 'inventory', 'look', 'take apple', 'take carrot', 'take half of a bag of chips', 'take shovel']\n",
      "\n",
      "> take carrot\n",
      "\n",
      "You pick up the carrot from the ground.\n",
      "\n",
      "\n",
      "\n",
      ">\n",
      "-= Garden =-0/12\n",
      "\n",
      "Available actions: ['drop carrot', 'drop old key', 'eat carrot', 'examine apple', 'examine carrot', 'examine half of a bag of chips', 'examine old key', 'examine shovel', 'go north', 'inventory', 'look', 'take apple', 'take half of a bag of chips', 'take shovel']\n",
      "\n",
      "> go north\n",
      "\n",
      "\n",
      "-= Backyard =-\n",
      "You've entered a backyard. You can barely contain your excitement.\n",
      "\n",
      "You scan the room for a set of chairs, and you find a set of chairs! The set of\n",
      "chairs is typical. But the thing is empty. What, you think everything in\n",
      "TextWorld should have stuff on it? What's that over there? It looks like it's a\n",
      "bbq. I guess it's true what they say, if you're looking for a bbq, go to\n",
      "TextWorld. However, the bbq, like an empty bbq, has nothing on it. You can see a\n",
      "patio table. The patio table is normal. But oh no! there's nothing on this piece\n",
      "of junk.\n",
      "\n",
      "There is an open screen door leading west. You need an unguarded exit? You\n",
      "should try going south.\n",
      "\n",
      "\n",
      "\n",
      ">\n",
      "-= Backyard =-0/13\n",
      "\n",
      "Available actions: ['close screen door', 'drop carrot', 'drop old key', 'eat carrot', 'examine bbq', 'examine carrot', 'examine old key', 'examine patio table', 'examine screen door', 'examine set of chairs', 'go south', 'go west', 'inventory', 'look', 'put carrot on bbq', 'put carrot on patio table', 'put carrot on set of chairs', 'put old key on bbq', 'put old key on patio table', 'put old key on set of chairs']\n",
      "\n"
     ]
    },
    {
     "name": "stdout",
     "output_type": "stream",
     "text": [
      "> go west\n",
      "\n",
      "\n",
      "-= Kitchen =-\n",
      "You arrive in a kitchen. A standard one.\n",
      "\n",
      "You see a refrigerator. You check the price tag that's still affixed to the\n",
      "refrigerator. 100 bucks? What a deal! You'll have to ask where they got this!\n",
      "You see a counter. The counter is typical. But the thing hasn't got anything on\n",
      "it. Look out! It's a- oh, never mind, it's just a stove. But there isn't a thing\n",
      "on it. Look over there! a kitchen island. You wonder idly who left that here.\n",
      "The kitchen island is usual. On the kitchen island you see a note.\n",
      "\n",
      "There is an open screen door leading east. There is an open wooden door leading\n",
      "west. You need an unblocked exit? You should try going north. You don't like\n",
      "doors? Why not try going south, that entranceway is unblocked.\n",
      "\n",
      "\n",
      "\n",
      ">\n",
      "-= Kitchen =-0/14\n",
      "\n",
      "Available actions: ['close screen door', 'close wooden door', 'drop carrot', 'drop old key', 'eat carrot', 'examine carrot', 'examine counter', 'examine kitchen island', 'examine note', 'examine old key', 'examine refrigerator', 'examine screen door', 'examine stove', 'examine wooden door', 'go east', 'go north', 'go south', 'go west', 'inventory', 'look', 'open refrigerator', 'put carrot on counter', 'put carrot on kitchen island', 'put carrot on stove', 'put old key on counter', 'put old key on kitchen island', 'put old key on stove', 'take note from kitchen island']\n",
      "\n",
      "> put carrot on stove\n",
      "\n",
      "You put the carrot on the stove.\n",
      "\n",
      "\n",
      "Your score has just gone up by one point.\n",
      "\n",
      "\n",
      "                                                       *** The End ***\n",
      "\n",
      "You scored 1 out of a possible 1, in 15 turn(s).\n",
      "\n",
      "\n",
      "Would you like to RESTART, RESTORE a saved game, QUIT or UNDO the last command?\n",
      ">\n",
      "-= Kitchen =-0/14\n",
      "\n",
      "Done after 14 steps. Score 1/1.\n"
     ]
    }
   ],
   "source": [
    "textworld.play(\"./games/tw-rewardsSparse_goalNone.z8\")"
   ]
  },
  {
   "cell_type": "code",
   "execution_count": null,
   "metadata": {},
   "outputs": [],
   "source": []
  }
 ],
 "metadata": {
  "interpreter": {
   "hash": "be03b6b6ec1a0d77f93ae5cb8161113c0891e073d6fef18981bbbd9f7633546d"
  },
  "kernelspec": {
   "display_name": "Python 3",
   "language": "python",
   "name": "python3"
  },
  "language_info": {
   "codemirror_mode": {
    "name": "ipython",
    "version": 3
   },
   "file_extension": ".py",
   "mimetype": "text/x-python",
   "name": "python",
   "nbconvert_exporter": "python",
   "pygments_lexer": "ipython3",
   "version": "3.10.12"
  }
 },
 "nbformat": 4,
 "nbformat_minor": 2
}
